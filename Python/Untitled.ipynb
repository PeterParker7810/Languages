{
 "cells": [
  {
   "cell_type": "code",
   "execution_count": null,
   "id": "49b65645-561c-452f-ab1f-129d7bab6e00",
   "metadata": {},
   "outputs": [],
   "source": [
    "import seaborn as sns\n",
    "\n",
    "DS = sns.load_dataset(\"exercise\")\n",
    "print(DS)"
   ]
  },
  {
   "cell_type": "code",
   "execution_count": null,
   "id": "14f0d4df-9113-46ed-9107-f72401562b0d",
   "metadata": {},
   "outputs": [],
   "source": [
    "print(\"Hello Worl"
   ]
  }
 ],
 "metadata": {
  "kernelspec": {
   "display_name": "Python 3 (ipykernel)",
   "language": "python",
   "name": "python3"
  },
  "language_info": {
   "name": ""
  }
 },
 "nbformat": 4,
 "nbformat_minor": 5
}
